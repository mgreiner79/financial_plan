{
 "cells": [
  {
   "cell_type": "code",
   "execution_count": 76,
   "metadata": {},
   "outputs": [],
   "source": [
    "import os\n",
    "\n",
    "os.chdir(os.getcwd())\n",
    "from base_classes import FinancialModel\n",
    "from utils import load_data_from_json"
   ]
  },
  {
   "cell_type": "code",
   "execution_count": 77,
   "metadata": {},
   "outputs": [],
   "source": [
    "data = load_data_from_json(\"params_3.json\")\n",
    "model = FinancialModel()\n",
    "model.load_data(data)\n",
    "model.period = 10"
   ]
  },
  {
   "cell_type": "code",
   "execution_count": 78,
   "metadata": {},
   "outputs": [
    {
     "name": "stdout",
     "output_type": "stream",
     "text": [
      "$ 1,909,969.65\n"
     ]
    }
   ],
   "source": [
    "# Calculate total assets value at the end of the analysis period\n",
    "total_assets_value = model.calculate_asset_value()\n",
    "print(f\"$ {total_assets_value:,.2f}\")"
   ]
  },
  {
   "cell_type": "code",
   "execution_count": 79,
   "metadata": {},
   "outputs": [
    {
     "name": "stdout",
     "output_type": "stream",
     "text": [
      "$ 690,473.91\n"
     ]
    }
   ],
   "source": [
    "# Calculate total liabilities remaining at the end of the analysis period\n",
    "total_liabilities_value = model.calculate_liability_value()\n",
    "print(f\"$ {total_liabilities_value:,.2f}\")"
   ]
  },
  {
   "cell_type": "code",
   "execution_count": 80,
   "metadata": {},
   "outputs": [
    {
     "name": "stdout",
     "output_type": "stream",
     "text": [
      "$ 1,802,121.83\n"
     ]
    }
   ],
   "source": [
    "# Calculate total incomes over the analysis period\n",
    "total_incomes = model.calculate_income_value()\n",
    "print(f\"$ {total_incomes:,.2f}\")"
   ]
  },
  {
   "cell_type": "code",
   "execution_count": 81,
   "metadata": {},
   "outputs": [
    {
     "name": "stdout",
     "output_type": "stream",
     "text": [
      "$ 717,307.45\n"
     ]
    }
   ],
   "source": [
    "# Calculate total expenses over the analysis period\n",
    "total_expenses = model.calculate_expense_value()\n",
    "print(f\"$ {total_expenses:,.2f}\")"
   ]
  },
  {
   "cell_type": "code",
   "execution_count": 82,
   "metadata": {},
   "outputs": [
    {
     "name": "stdout",
     "output_type": "stream",
     "text": [
      "$ 1,084,814.37\n"
     ]
    }
   ],
   "source": [
    "# Calculate net cash flow\n",
    "net_cash_flow = model.calculate_cash_flow()\n",
    "print(f\"$ {net_cash_flow:,.2f}\")"
   ]
  },
  {
   "cell_type": "code",
   "execution_count": 83,
   "metadata": {},
   "outputs": [
    {
     "name": "stdout",
     "output_type": "stream",
     "text": [
      "$ 2,304,310.11\n"
     ]
    }
   ],
   "source": [
    "# Calculate net worth\n",
    "net_worth = model.calculate_net_worth()\n",
    "print(f\"$ {net_worth:,.2f}\")"
   ]
  },
  {
   "cell_type": "code",
   "execution_count": 84,
   "metadata": {},
   "outputs": [
    {
     "name": "stdout",
     "output_type": "stream",
     "text": [
      "Savings, Appartment, House, Kitchen Remodel, Bathroom Upgrade, Insulation Upgrade, Heating Upgrade, Windows Upgrade, Floor Upgrade\n"
     ]
    }
   ],
   "source": [
    "# House Value\n",
    "print(\", \".join([a.name for a in model.assets]))"
   ]
  },
  {
   "cell_type": "code",
   "execution_count": 85,
   "metadata": {},
   "outputs": [
    {
     "name": "stdout",
     "output_type": "stream",
     "text": [
      "$ 1,198,011.46\n"
     ]
    }
   ],
   "source": [
    "house_idx = next((i for i, x in enumerate(model.assets) if x.name == \"House\"), None)\n",
    "value = model.assets[house_idx].value_at_period(model.period)\n",
    "print(f\"$ {value:,.2f}\")"
   ]
  },
  {
   "cell_type": "code",
   "execution_count": 86,
   "metadata": {},
   "outputs": [
    {
     "name": "stdout",
     "output_type": "stream",
     "text": [
      "['Mortgage', 'Rennovation Loan', 'Tax Loan']\n",
      "$ 4,101.97\n"
     ]
    }
   ],
   "source": [
    "liabilities = model.liabilities\n",
    "print([l.name for l in liabilities])\n",
    "l = model.liabilities[0]\n",
    "payments = sum([l.monthly_payment() for l in liabilities])\n",
    "print(f\"$ {payments:,.2f}\")"
   ]
  },
  {
   "cell_type": "code",
   "execution_count": 87,
   "metadata": {},
   "outputs": [
    {
     "name": "stdout",
     "output_type": "stream",
     "text": [
      "$ 2,975.00\n"
     ]
    }
   ],
   "source": [
    "expenses = model.expenses\n",
    "monthly_expenses = sum([e.amount_per_period for e in expenses if e.linked_liability is None]) / 12\n",
    "print(f\"$ {monthly_expenses:,.2f}\")"
   ]
  }
 ],
 "metadata": {
  "interpreter": {
   "hash": "f014dfd219b8bfcf3773e6ed8f9d736b105bbf0db8ad080188d7c9bf25ac445b"
  },
  "kernelspec": {
   "display_name": "Python 3.11.3 64-bit ('venv': venv)",
   "language": "python",
   "name": "python3"
  },
  "language_info": {
   "codemirror_mode": {
    "name": "ipython",
    "version": 3
   },
   "file_extension": ".py",
   "mimetype": "text/x-python",
   "name": "python",
   "nbconvert_exporter": "python",
   "pygments_lexer": "ipython3",
   "version": "3.11.3"
  },
  "orig_nbformat": 4
 },
 "nbformat": 4,
 "nbformat_minor": 2
}
